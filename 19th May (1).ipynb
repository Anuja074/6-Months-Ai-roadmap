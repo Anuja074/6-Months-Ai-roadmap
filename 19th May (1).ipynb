{
 "cells": [
  {
   "cell_type": "markdown",
   "id": "9ce81b8b-52e0-4785-8c19-4b2d83a9eaa5",
   "metadata": {},
   "source": [
    "19 May"
   ]
  },
  {
   "cell_type": "code",
   "execution_count": 1,
   "id": "e3ef49db-b539-4f8b-8ffe-6020018e99ce",
   "metadata": {},
   "outputs": [
    {
     "data": {
      "text/plain": [
       "int"
      ]
     },
     "execution_count": 1,
     "metadata": {},
     "output_type": "execute_result"
    }
   ],
   "source": [
    "a=5\n",
    "type(a)"
   ]
  },
  {
   "cell_type": "code",
   "execution_count": 3,
   "id": "ad96d347-ef19-40ba-a1d0-5a55c4c4b53e",
   "metadata": {},
   "outputs": [
    {
     "data": {
      "text/plain": [
       "float"
      ]
     },
     "execution_count": 3,
     "metadata": {},
     "output_type": "execute_result"
    }
   ],
   "source": [
    "b=5.5\n",
    "type(b)"
   ]
  },
  {
   "cell_type": "code",
   "execution_count": 4,
   "id": "16a824bb-c60b-45d4-8ec4-13e9b5bf90ea",
   "metadata": {},
   "outputs": [
    {
     "data": {
      "text/plain": [
       "str"
      ]
     },
     "execution_count": 4,
     "metadata": {},
     "output_type": "execute_result"
    }
   ],
   "source": [
    "c='nit'\n",
    "type(c)"
   ]
  },
  {
   "cell_type": "code",
   "execution_count": 5,
   "id": "168833d2-78b3-41c3-910c-911244c4dc38",
   "metadata": {},
   "outputs": [
    {
     "data": {
      "text/plain": [
       "complex"
      ]
     },
     "execution_count": 5,
     "metadata": {},
     "output_type": "execute_result"
    }
   ],
   "source": [
    "d = 1+2j\n",
    "type(d)"
   ]
  },
  {
   "cell_type": "code",
   "execution_count": 9,
   "id": "3f770b0c-fb5c-4ce4-8d1a-6e9def9d0024",
   "metadata": {},
   "outputs": [
    {
     "data": {
      "text/plain": [
       "bool"
      ]
     },
     "execution_count": 9,
     "metadata": {},
     "output_type": "execute_result"
    }
   ],
   "source": [
    "e=True\n",
    "type(e)"
   ]
  },
  {
   "cell_type": "markdown",
   "id": "3e059212-037d-4502-8f7d-04ca553fb230",
   "metadata": {},
   "source": [
    "DATA STRUCTURE"
   ]
  },
  {
   "cell_type": "code",
   "execution_count": 12,
   "id": "046688ff-3948-49a5-85a0-16c375eb9817",
   "metadata": {},
   "outputs": [
    {
     "data": {
      "text/plain": [
       "[]"
      ]
     },
     "execution_count": 12,
     "metadata": {},
     "output_type": "execute_result"
    }
   ],
   "source": [
    "l=[]\n",
    "l"
   ]
  },
  {
   "cell_type": "code",
   "execution_count": 14,
   "id": "154703fb-72a1-4717-8a4a-7043057b7bd1",
   "metadata": {},
   "outputs": [
    {
     "data": {
      "text/plain": [
       "list"
      ]
     },
     "execution_count": 14,
     "metadata": {},
     "output_type": "execute_result"
    }
   ],
   "source": [
    "type(l)\n"
   ]
  },
  {
   "cell_type": "code",
   "execution_count": 16,
   "id": "134241ef-eca6-4f90-97c3-c40256aed744",
   "metadata": {},
   "outputs": [],
   "source": [
    "l.append(10)  #add the element end of the \n",
    "l.append(20)"
   ]
  },
  {
   "cell_type": "code",
   "execution_count": 18,
   "id": "fd36d64c-f433-49bb-9151-2e3d22b488ea",
   "metadata": {},
   "outputs": [
    {
     "data": {
      "text/plain": [
       "[10, 20]"
      ]
     },
     "execution_count": 18,
     "metadata": {},
     "output_type": "execute_result"
    }
   ],
   "source": [
    "l"
   ]
  },
  {
   "cell_type": "code",
   "execution_count": 20,
   "id": "262485a5-a49e-4e65-ba9c-a40e1920a119",
   "metadata": {},
   "outputs": [],
   "source": [
    "l.append(30)\n",
    "l.append(40)\n",
    "l.append(10)   #duplicate is allowed\n"
   ]
  },
  {
   "cell_type": "code",
   "execution_count": 22,
   "id": "266d09c4-01c0-4cb3-b2d8-f198006bf05c",
   "metadata": {},
   "outputs": [
    {
     "data": {
      "text/plain": [
       "[10, 20, 30, 40, 10]"
      ]
     },
     "execution_count": 22,
     "metadata": {},
     "output_type": "execute_result"
    }
   ],
   "source": [
    "l"
   ]
  },
  {
   "cell_type": "code",
   "execution_count": 24,
   "id": "7495cc59-6e3f-4ad6-81ab-86745e8f96cd",
   "metadata": {},
   "outputs": [
    {
     "data": {
      "text/plain": [
       "5"
      ]
     },
     "execution_count": 24,
     "metadata": {},
     "output_type": "execute_result"
    }
   ],
   "source": [
    "len(l)"
   ]
  },
  {
   "cell_type": "code",
   "execution_count": 26,
   "id": "9bdc6a8b-288e-4f8e-8ab5-bf31609ab91b",
   "metadata": {},
   "outputs": [],
   "source": [
    "l10=l.copy()"
   ]
  },
  {
   "cell_type": "code",
   "execution_count": 28,
   "id": "00cea887-4386-4420-97d1-384b3c54f73a",
   "metadata": {},
   "outputs": [
    {
     "data": {
      "text/plain": [
       "[10, 20, 30, 40, 10]"
      ]
     },
     "execution_count": 28,
     "metadata": {},
     "output_type": "execute_result"
    }
   ],
   "source": [
    "l10"
   ]
  },
  {
   "cell_type": "code",
   "execution_count": 30,
   "id": "d8fe0430-eee4-4379-aee5-f18bdc102c2a",
   "metadata": {},
   "outputs": [
    {
     "data": {
      "text/plain": [
       "True"
      ]
     },
     "execution_count": 30,
     "metadata": {},
     "output_type": "execute_result"
    }
   ],
   "source": [
    "l==l10"
   ]
  },
  {
   "cell_type": "code",
   "execution_count": 32,
   "id": "ea077cbf-9ea7-4ae2-8665-bbdbca1ff4b2",
   "metadata": {},
   "outputs": [
    {
     "name": "stdout",
     "output_type": "stream",
     "text": [
      "[10, 20, 30, 40, 10]\n",
      "[10, 20, 30, 40, 10]\n"
     ]
    }
   ],
   "source": [
    "print(l)\n",
    "print(l10)"
   ]
  },
  {
   "cell_type": "code",
   "execution_count": 34,
   "id": "082e3e5d-e1d8-44ff-9729-cf3526c1bd28",
   "metadata": {},
   "outputs": [],
   "source": [
    "l9 = []"
   ]
  },
  {
   "cell_type": "code",
   "execution_count": 36,
   "id": "08d21544-f7cf-4b3b-bcec-408cd888006f",
   "metadata": {},
   "outputs": [],
   "source": [
    "l9.append(2.3)\n",
    "l9.append('nit')\n",
    "l9.append(True)\n",
    "l9.append(1+2j)\n",
    "l9.append([1,2,3])"
   ]
  },
  {
   "cell_type": "code",
   "execution_count": 38,
   "id": "415ea54f-0828-403a-939f-a515e55dc610",
   "metadata": {},
   "outputs": [
    {
     "data": {
      "text/plain": [
       "[2.3, 'nit', True, (1+2j), [1, 2, 3]]"
      ]
     },
     "execution_count": 38,
     "metadata": {},
     "output_type": "execute_result"
    }
   ],
   "source": [
    "l9"
   ]
  },
  {
   "cell_type": "code",
   "execution_count": 40,
   "id": "e64550db-aafe-404c-9612-6d273f249a5f",
   "metadata": {},
   "outputs": [
    {
     "name": "stdout",
     "output_type": "stream",
     "text": [
      "[10, 20, 30, 40, 10]\n",
      "[10, 20, 30, 40, 10]\n",
      "[2.3, 'nit', True, (1+2j), [1, 2, 3]]\n"
     ]
    }
   ],
   "source": [
    "print(l)\n",
    "print(l10)\n",
    "print(l9)"
   ]
  },
  {
   "cell_type": "code",
   "execution_count": 42,
   "id": "a439559e-76d4-4eed-bd94-8d8252a48b7e",
   "metadata": {},
   "outputs": [
    {
     "name": "stdout",
     "output_type": "stream",
     "text": [
      "5\n",
      "5\n",
      "5\n"
     ]
    }
   ],
   "source": [
    "print(len(l))\n",
    "print(len(l10))\n",
    "print(len(l9))"
   ]
  },
  {
   "cell_type": "code",
   "execution_count": 44,
   "id": "3cd9e27f-70f8-4cca-8c42-3f57b8d3465e",
   "metadata": {},
   "outputs": [
    {
     "name": "stdout",
     "output_type": "stream",
     "text": [
      "1719580810304\n",
      "1719581061824\n",
      "140710500641784\n"
     ]
    }
   ],
   "source": [
    "print(id(l))\n",
    "print(id(l10))\n",
    "print(id(19))"
   ]
  },
  {
   "cell_type": "code",
   "execution_count": 46,
   "id": "f3fcef6a-9bad-4178-b42f-eca8b5792b75",
   "metadata": {},
   "outputs": [
    {
     "data": {
      "text/plain": [
       "1"
      ]
     },
     "execution_count": 46,
     "metadata": {},
     "output_type": "execute_result"
    }
   ],
   "source": [
    "l.count(20)     #helps to count the numbers"
   ]
  },
  {
   "cell_type": "code",
   "execution_count": 48,
   "id": "6fc9e4d0-32da-49d9-bc6e-6ed0cb9f5b20",
   "metadata": {},
   "outputs": [
    {
     "data": {
      "text/plain": [
       "2"
      ]
     },
     "execution_count": 48,
     "metadata": {},
     "output_type": "execute_result"
    }
   ],
   "source": [
    "l.count(10)"
   ]
  },
  {
   "cell_type": "code",
   "execution_count": 50,
   "id": "63d75e74-48e7-4fa4-b35d-9d30ca551596",
   "metadata": {},
   "outputs": [
    {
     "data": {
      "text/plain": [
       "1"
      ]
     },
     "execution_count": 50,
     "metadata": {},
     "output_type": "execute_result"
    }
   ],
   "source": [
    "l9.count('nit')"
   ]
  },
  {
   "cell_type": "code",
   "execution_count": 52,
   "id": "3bf522b5-d315-4916-a0d2-4229699182a3",
   "metadata": {},
   "outputs": [
    {
     "data": {
      "text/plain": [
       "[2.3, 'nit', True, (1+2j), [1, 2, 3]]"
      ]
     },
     "execution_count": 52,
     "metadata": {},
     "output_type": "execute_result"
    }
   ],
   "source": [
    "l9"
   ]
  },
  {
   "cell_type": "code",
   "execution_count": 54,
   "id": "49c964d5-7b0d-46ba-8b29-a9c5c70d7507",
   "metadata": {},
   "outputs": [
    {
     "data": {
      "text/plain": [
       "2.3"
      ]
     },
     "execution_count": 54,
     "metadata": {},
     "output_type": "execute_result"
    }
   ],
   "source": [
    "l9[0]    #forward indexing"
   ]
  },
  {
   "cell_type": "code",
   "execution_count": 56,
   "id": "cc6a602c-77e6-4572-b1e7-70f541dc6cd9",
   "metadata": {},
   "outputs": [
    {
     "data": {
      "text/plain": [
       "[1, 2, 3]"
      ]
     },
     "execution_count": 56,
     "metadata": {},
     "output_type": "execute_result"
    }
   ],
   "source": [
    "l9[-1]    #backward indexing"
   ]
  },
  {
   "cell_type": "code",
   "execution_count": 58,
   "id": "4fbd5554-4161-48b1-97d0-3d61baae496b",
   "metadata": {},
   "outputs": [],
   "source": [
    "l9[0]=230    #list is mutuable"
   ]
  },
  {
   "cell_type": "code",
   "execution_count": 60,
   "id": "92c295ef-d45c-4467-9052-4d209e79305b",
   "metadata": {},
   "outputs": [
    {
     "data": {
      "text/plain": [
       "[230, 'nit', True, (1+2j), [1, 2, 3]]"
      ]
     },
     "execution_count": 60,
     "metadata": {},
     "output_type": "execute_result"
    }
   ],
   "source": [
    "l9"
   ]
  },
  {
   "cell_type": "code",
   "execution_count": 62,
   "id": "a41501bd-2952-44c6-aeb1-7eae7328b7d0",
   "metadata": {},
   "outputs": [
    {
     "data": {
      "text/plain": [
       "[10, 20, 30, 40, 10]"
      ]
     },
     "execution_count": 62,
     "metadata": {},
     "output_type": "execute_result"
    }
   ],
   "source": [
    "l10"
   ]
  },
  {
   "cell_type": "code",
   "execution_count": 64,
   "id": "fda0ad3e-d1e3-404c-89b3-69e77e690409",
   "metadata": {},
   "outputs": [
    {
     "data": {
      "text/plain": [
       "5"
      ]
     },
     "execution_count": 64,
     "metadata": {},
     "output_type": "execute_result"
    }
   ],
   "source": [
    "len(l10)"
   ]
  },
  {
   "cell_type": "code",
   "execution_count": 66,
   "id": "3fa3ad1d-6bcb-4a07-a8ae-d480866bdcf9",
   "metadata": {},
   "outputs": [],
   "source": [
    "l10.clear()"
   ]
  },
  {
   "cell_type": "code",
   "execution_count": 68,
   "id": "e6270cca-c397-4032-bcb0-4682ca5be049",
   "metadata": {},
   "outputs": [
    {
     "data": {
      "text/plain": [
       "[]"
      ]
     },
     "execution_count": 68,
     "metadata": {},
     "output_type": "execute_result"
    }
   ],
   "source": [
    "l10"
   ]
  },
  {
   "cell_type": "code",
   "execution_count": 70,
   "id": "4dd9105b-065a-4c58-9e70-57fd531bc2d1",
   "metadata": {},
   "outputs": [
    {
     "data": {
      "text/plain": [
       "0"
      ]
     },
     "execution_count": 70,
     "metadata": {},
     "output_type": "execute_result"
    }
   ],
   "source": [
    "len(l10)"
   ]
  },
  {
   "cell_type": "code",
   "execution_count": 72,
   "id": "da91a6c6-9b43-4f09-bdae-c7e6aaca085c",
   "metadata": {},
   "outputs": [],
   "source": [
    "del l10    #to delete l10"
   ]
  },
  {
   "cell_type": "code",
   "execution_count": 74,
   "id": "67f1dfc5-a27a-4250-b97f-ffda4b526bec",
   "metadata": {},
   "outputs": [
    {
     "ename": "NameError",
     "evalue": "name 'l10' is not defined",
     "output_type": "error",
     "traceback": [
      "\u001b[1;31m---------------------------------------------------------------------------\u001b[0m",
      "\u001b[1;31mNameError\u001b[0m                                 Traceback (most recent call last)",
      "Cell \u001b[1;32mIn[74], line 1\u001b[0m\n\u001b[1;32m----> 1\u001b[0m l10\n",
      "\u001b[1;31mNameError\u001b[0m: name 'l10' is not defined"
     ]
    }
   ],
   "source": [
    "l10"
   ]
  },
  {
   "cell_type": "code",
   "execution_count": 76,
   "id": "513bac63-b1a3-4d51-a408-238660f18171",
   "metadata": {},
   "outputs": [
    {
     "data": {
      "text/plain": [
       "[230, 'nit', True, (1+2j), [1, 2, 3]]"
      ]
     },
     "execution_count": 76,
     "metadata": {},
     "output_type": "execute_result"
    }
   ],
   "source": [
    "l9"
   ]
  },
  {
   "cell_type": "code",
   "execution_count": 78,
   "id": "0e7ba592-7537-4342-9c28-6d9a423e2d14",
   "metadata": {},
   "outputs": [
    {
     "data": {
      "text/plain": [
       "[1, 2, 3]"
      ]
     },
     "execution_count": 78,
     "metadata": {},
     "output_type": "execute_result"
    }
   ],
   "source": [
    "l9.pop()"
   ]
  },
  {
   "cell_type": "code",
   "execution_count": 80,
   "id": "34789150-6e06-4c82-b14c-e2126d00dd5b",
   "metadata": {},
   "outputs": [
    {
     "data": {
      "text/plain": [
       "[230, 'nit', True, (1+2j)]"
      ]
     },
     "execution_count": 80,
     "metadata": {},
     "output_type": "execute_result"
    }
   ],
   "source": [
    "l9"
   ]
  },
  {
   "cell_type": "code",
   "execution_count": 82,
   "id": "d59567d1-deb4-4a26-ac18-f9e7c68058d8",
   "metadata": {},
   "outputs": [
    {
     "data": {
      "text/plain": [
       "(1+2j)"
      ]
     },
     "execution_count": 82,
     "metadata": {},
     "output_type": "execute_result"
    }
   ],
   "source": [
    "l9.pop()"
   ]
  },
  {
   "cell_type": "code",
   "execution_count": 84,
   "id": "7584e12a-3414-4076-8f51-cc038e8e9d8c",
   "metadata": {},
   "outputs": [
    {
     "data": {
      "text/plain": [
       "[230, 'nit', True]"
      ]
     },
     "execution_count": 84,
     "metadata": {},
     "output_type": "execute_result"
    }
   ],
   "source": [
    "l9"
   ]
  },
  {
   "cell_type": "code",
   "execution_count": 86,
   "id": "1c95eec2-ea12-428b-b8cd-c62d0fa0052b",
   "metadata": {},
   "outputs": [
    {
     "data": {
      "text/plain": [
       "True"
      ]
     },
     "execution_count": 86,
     "metadata": {},
     "output_type": "execute_result"
    }
   ],
   "source": [
    "l9.pop()    #remove last element"
   ]
  },
  {
   "cell_type": "code",
   "execution_count": 88,
   "id": "841d49e2-7be8-42f1-94f0-f0a67ece39c0",
   "metadata": {},
   "outputs": [
    {
     "data": {
      "text/plain": [
       "[230, 'nit']"
      ]
     },
     "execution_count": 88,
     "metadata": {},
     "output_type": "execute_result"
    }
   ],
   "source": [
    "l9"
   ]
  },
  {
   "cell_type": "code",
   "execution_count": 90,
   "id": "a037f5bf-77df-47db-a3e0-ede5734b1467",
   "metadata": {},
   "outputs": [
    {
     "data": {
      "text/plain": [
       "'nit'"
      ]
     },
     "execution_count": 90,
     "metadata": {},
     "output_type": "execute_result"
    }
   ],
   "source": [
    "l9.pop(1) #remove elements by index"
   ]
  },
  {
   "cell_type": "code",
   "execution_count": 92,
   "id": "e0dee82e-6b63-4b67-9373-0fc23bfe3bd6",
   "metadata": {},
   "outputs": [
    {
     "data": {
      "text/plain": [
       "[230]"
      ]
     },
     "execution_count": 92,
     "metadata": {},
     "output_type": "execute_result"
    }
   ],
   "source": [
    "l9"
   ]
  },
  {
   "cell_type": "code",
   "execution_count": 94,
   "id": "f7d16aee-2ac7-47a1-a48a-51e8470ea5ed",
   "metadata": {},
   "outputs": [
    {
     "data": {
      "text/plain": [
       "230"
      ]
     },
     "execution_count": 94,
     "metadata": {},
     "output_type": "execute_result"
    }
   ],
   "source": [
    "l9.pop()"
   ]
  },
  {
   "cell_type": "code",
   "execution_count": 96,
   "id": "f87f39a6-439b-42ec-91cf-c8e8fbba47e1",
   "metadata": {},
   "outputs": [
    {
     "data": {
      "text/plain": [
       "[]"
      ]
     },
     "execution_count": 96,
     "metadata": {},
     "output_type": "execute_result"
    }
   ],
   "source": [
    "l9"
   ]
  },
  {
   "cell_type": "code",
   "execution_count": 102,
   "id": "900cd00a-55a3-4614-8e4b-dd2c3ffad725",
   "metadata": {},
   "outputs": [
    {
     "data": {
      "text/plain": [
       "10"
      ]
     },
     "execution_count": 102,
     "metadata": {},
     "output_type": "execute_result"
    }
   ],
   "source": [
    "l.pop()    "
   ]
  },
  {
   "cell_type": "code",
   "execution_count": 104,
   "id": "ce8e757e-9b2b-466e-b504-70cb0e2d9953",
   "metadata": {},
   "outputs": [
    {
     "data": {
      "text/plain": [
       "[10, 20, 30, 40]"
      ]
     },
     "execution_count": 104,
     "metadata": {},
     "output_type": "execute_result"
    }
   ],
   "source": [
    "l"
   ]
  },
  {
   "cell_type": "code",
   "execution_count": 112,
   "id": "75497940-d4c5-4925-8e6b-8bb9d862a38f",
   "metadata": {},
   "outputs": [],
   "source": [
    "l.remove(20)     #remove elements by value"
   ]
  },
  {
   "cell_type": "code",
   "execution_count": 116,
   "id": "5eca5a3d-342d-46f4-98eb-2807172efc95",
   "metadata": {},
   "outputs": [
    {
     "data": {
      "text/plain": [
       "[10, 40]"
      ]
     },
     "execution_count": 116,
     "metadata": {},
     "output_type": "execute_result"
    }
   ],
   "source": [
    "l"
   ]
  },
  {
   "cell_type": "code",
   "execution_count": null,
   "id": "bf430c3b-1d91-4b52-8085-c372cb9bb035",
   "metadata": {},
   "outputs": [],
   "source": []
  },
  {
   "cell_type": "code",
   "execution_count": null,
   "id": "93b2dd24-2f3e-40a3-9b13-36e514681a9e",
   "metadata": {},
   "outputs": [],
   "source": []
  }
 ],
 "metadata": {
  "kernelspec": {
   "display_name": "Python [conda env:base] *",
   "language": "python",
   "name": "conda-base-py"
  },
  "language_info": {
   "codemirror_mode": {
    "name": "ipython",
    "version": 3
   },
   "file_extension": ".py",
   "mimetype": "text/x-python",
   "name": "python",
   "nbconvert_exporter": "python",
   "pygments_lexer": "ipython3",
   "version": "3.12.7"
  }
 },
 "nbformat": 4,
 "nbformat_minor": 5
}
