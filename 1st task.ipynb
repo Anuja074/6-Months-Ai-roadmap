{
 "cells": [
  {
   "cell_type": "markdown",
   "id": "b6937780-d361-40f9-84c6-d621838ff7b2",
   "metadata": {},
   "source": [
    "#python variables"
   ]
  },
  {
   "cell_type": "markdown",
   "id": "6b72fae8-2a82-439c-bef2-abb876591376",
   "metadata": {},
   "source": [
    "#integer variable"
   ]
  },
  {
   "cell_type": "code",
   "execution_count": 2,
   "id": "7af06950-67ef-4040-85cd-32280b0eb68a",
   "metadata": {},
   "outputs": [
    {
     "name": "stdout",
     "output_type": "stream",
     "text": [
      "21\n"
     ]
    }
   ],
   "source": [
    "age=21\n",
    "print(age)"
   ]
  },
  {
   "cell_type": "markdown",
   "id": "26eedf07-ad1b-40f5-94fc-d4b31406a90a",
   "metadata": {},
   "source": [
    "#string variable"
   ]
  },
  {
   "cell_type": "code",
   "execution_count": 4,
   "id": "1547f7e1-319e-4dea-bacc-c67f84dc1349",
   "metadata": {},
   "outputs": [
    {
     "name": "stdout",
     "output_type": "stream",
     "text": [
      "anuja\n"
     ]
    }
   ],
   "source": [
    "name=\"anuja\"\n",
    "print(name)"
   ]
  },
  {
   "cell_type": "markdown",
   "id": "0dc47ed3-51db-4780-9332-d9007689093c",
   "metadata": {},
   "source": [
    "#float variable"
   ]
  },
  {
   "cell_type": "code",
   "execution_count": 6,
   "id": "b66c7dbf-ff1d-44f0-8b58-d7eda3992e27",
   "metadata": {},
   "outputs": [
    {
     "name": "stdout",
     "output_type": "stream",
     "text": [
      "19.99\n"
     ]
    }
   ],
   "source": [
    "price=19.99\n",
    "print(price)"
   ]
  },
  {
   "cell_type": "markdown",
   "id": "a560b85c-e171-4a22-98a4-0d3013ec1486",
   "metadata": {},
   "source": [
    "#boolean variable"
   ]
  },
  {
   "cell_type": "code",
   "execution_count": 10,
   "id": "190b99dc-4b42-4c3a-9c3d-9a665c393c08",
   "metadata": {},
   "outputs": [
    {
     "name": "stdout",
     "output_type": "stream",
     "text": [
      "True\n"
     ]
    }
   ],
   "source": [
    "is_active=True\n",
    "print(is_active)"
   ]
  },
  {
   "cell_type": "markdown",
   "id": "cc74eeb6-1e0c-4d03-a9d2-b66e61671a35",
   "metadata": {},
   "source": [
    "# 1.storing and printing a value"
   ]
  },
  {
   "cell_type": "code",
   "execution_count": 12,
   "id": "043ec16d-227b-411d-a14b-9cc5fb3cf7fe",
   "metadata": {},
   "outputs": [
    {
     "name": "stdout",
     "output_type": "stream",
     "text": [
      "10\n"
     ]
    }
   ],
   "source": [
    "x=10\n",
    "print(x)"
   ]
  },
  {
   "cell_type": "markdown",
   "id": "7ebbe1be-5213-4254-91f0-fef3c28440fb",
   "metadata": {},
   "source": [
    "#2.using variables in expression"
   ]
  },
  {
   "cell_type": "code",
   "execution_count": 14,
   "id": "f4f0e999-2139-462f-aa3f-de3a8128799d",
   "metadata": {},
   "outputs": [
    {
     "name": "stdout",
     "output_type": "stream",
     "text": [
      "8\n"
     ]
    }
   ],
   "source": [
    "a=5\n",
    "b=3\n",
    "result=a+b\n",
    "print(result)"
   ]
  },
  {
   "cell_type": "markdown",
   "id": "78228f28-9a35-473f-b19d-9c0a62c898d2",
   "metadata": {},
   "source": [
    "#3. changing the value of variable"
   ]
  },
  {
   "cell_type": "code",
   "execution_count": 16,
   "id": "6199c078-7c2c-4292-a9ba-9c4984efb1ef",
   "metadata": {},
   "outputs": [
    {
     "name": "stdout",
     "output_type": "stream",
     "text": [
      "50\n"
     ]
    }
   ],
   "source": [
    "score=50\n",
    "print(score)"
   ]
  },
  {
   "cell_type": "code",
   "execution_count": 18,
   "id": "e84777e1-e1e0-486e-8be9-7eb43379a129",
   "metadata": {},
   "outputs": [
    {
     "name": "stdout",
     "output_type": "stream",
     "text": [
      "100\n"
     ]
    }
   ],
   "source": [
    "score=100\n",
    "print(score)"
   ]
  },
  {
   "cell_type": "markdown",
   "id": "d71ec1d5-9a55-4863-87db-e1b7a11c83eb",
   "metadata": {},
   "source": [
    "#4. concatenating strings"
   ]
  },
  {
   "cell_type": "code",
   "execution_count": 20,
   "id": "2a133d03-2d78-4dd5-a5af-c788ab3e7018",
   "metadata": {},
   "outputs": [
    {
     "name": "stdout",
     "output_type": "stream",
     "text": [
      "Anuja   Pawar\n"
     ]
    }
   ],
   "source": [
    "first_name=\"Anuja\"\n",
    "last_name=\"Pawar\"\n",
    "full_name=first_name+\"   \"+last_name\n",
    "print(full_name)"
   ]
  },
  {
   "cell_type": "markdown",
   "id": "f6fbc28f-3be5-4a95-ac35-93f5195f526b",
   "metadata": {},
   "source": [
    "#5. using variables in calculation"
   ]
  },
  {
   "cell_type": "code",
   "execution_count": 22,
   "id": "93015197-ec1c-4750-95c4-53a2bf2597ae",
   "metadata": {},
   "outputs": [
    {
     "name": "stdout",
     "output_type": "stream",
     "text": [
      "200\n"
     ]
    }
   ],
   "source": [
    "length=10\n",
    "width=20\n",
    "area=length*width\n",
    "print(area)"
   ]
  },
  {
   "cell_type": "markdown",
   "id": "3447a79f-62b0-4df6-b782-bb27d1167846",
   "metadata": {},
   "source": [
    "#6. reassigning values to variables"
   ]
  },
  {
   "cell_type": "code",
   "execution_count": 24,
   "id": "c979301c-13f0-4378-a211-0b98d6bf392c",
   "metadata": {},
   "outputs": [
    {
     "name": "stdout",
     "output_type": "stream",
     "text": [
      "10\n",
      "20\n"
     ]
    }
   ],
   "source": [
    "x=10\n",
    "print(x)\n",
    "x=20\n",
    "print(x)"
   ]
  },
  {
   "cell_type": "code",
   "execution_count": null,
   "id": "d6517b83-e924-49f1-b99c-c57797ebf9cd",
   "metadata": {},
   "outputs": [],
   "source": []
  }
 ],
 "metadata": {
  "kernelspec": {
   "display_name": "Python [conda env:base] *",
   "language": "python",
   "name": "conda-base-py"
  },
  "language_info": {
   "codemirror_mode": {
    "name": "ipython",
    "version": 3
   },
   "file_extension": ".py",
   "mimetype": "text/x-python",
   "name": "python",
   "nbconvert_exporter": "python",
   "pygments_lexer": "ipython3",
   "version": "3.12.7"
  }
 },
 "nbformat": 4,
 "nbformat_minor": 5
}
